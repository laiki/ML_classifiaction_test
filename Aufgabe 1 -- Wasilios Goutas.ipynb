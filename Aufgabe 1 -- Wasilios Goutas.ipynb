{
 "cells": [
  {
   "cell_type": "markdown",
   "metadata": {},
   "source": [
    "## Vor- und Nachname: Wasilios Goutas\n",
    "\n",
    "# Aufgabe 1: Theorie \n",
    "\n",
    "Die Fragen 1 bis 8 betragen insgesamt 30 Punkte.\n",
    "\n",
    "Für Bonusfragen in Aufgabe 1 kann man bis zu 8 Punkten erhalten, welche der Gesamtpunktzahl zugerechnet werden, jedoch nicht die Basispunktzahl erhöhen. Ich empfehle zuerst die Hauptaufgaben (1-8) zu behandeln.\n",
    " \n",
    "\n",
    "## Wichtig: Bitte beantwortet die Fragen ausführlich. Zu kurze Anworten, welche die Lösungen nur andeuten, können keine volle Punktzahl erhalten.\n",
    "\n",
    "---------------------------------------------------------------------------\n",
    "\n"
   ]
  },
  {
   "cell_type": "markdown",
   "metadata": {},
   "source": [
    "### Frage 1. Was ist der Hauptunterschied zwischen überwachtem (Supervised) und unüberwachtem (Unsupervised) Lernen?\n",
    "Antwort: \n",
    "* unsupervised learning does not need any definition of targets/labels and features to be done by the developer. It is been used to cluster the data and/or reduce the dymensionality \n",
    "* supervised learning needs the developer to split the data in train and test sets and to define the target(s)/label(s) to be used to create a model to predict the target(s)/label(s)"
   ]
  },
  {
   "cell_type": "markdown",
   "metadata": {},
   "source": [
    "### Frage 2. Was ist Overfitting? Nennen Sie ein konkretes Beispiel und erklaeren Sie warum das Overfitting ist. \n",
    "Antwort: \n",
    "\n",
    "When a model is overfitting it has learned too much the train data and perform not that good when it comes to data it has never seen before."
   ]
  },
  {
   "cell_type": "markdown",
   "metadata": {},
   "source": [
    "### Frage 3. Was können wir gegen Überanpassung (Overfitting) tun? Geben Sie 2 allgemeine Lösungen an und erklaeren Sie wie diese Loesungen Overfitting verringen.\n",
    "Antwort: \n",
    "* train more data\n",
    "* cross validation\n",
    "* apply regularization (e.g. l1, l2)\n",
    "* impute missing data\n",
    "* data augmentation"
   ]
  },
  {
   "cell_type": "markdown",
   "metadata": {},
   "source": [
    "### Frage 4. Was sind Trainings-, Validierungs- und Testdatensätze? Erklären Sie, was ihre Zwecke sind und wie sie verwendet werden sollten.\n",
    "Antwort: \n",
    "* training dataset is been used to train a model \n",
    "* test dataset is been used during training to test the model by using it to predict and compare the result using  the training dataset. The results are back-propageted to minimize the error during the traiing steps.\n",
    "* validation dataset is data the model has never seen during the training and is used to get the models accuracy once the training has been finalized "
   ]
  },
  {
   "cell_type": "markdown",
   "metadata": {},
   "source": [
    "### Frage 5. Was ist der Zweck von Gittersuche (Grid Search)?\n",
    "Antwort:\n",
    "\n",
    "The use of combinations of hyperparameter and identify the best combination of them by scoring the predictions.\n",
    "It is been performed automatically by running all combinations of hyperparameter given and provides the best result. \n",
    "\n",
    "__Since it might run many trainings it time consuming. The developer should choose the hyperparameters not without having an basic understanding of what they are tuning__"
   ]
  },
  {
   "cell_type": "markdown",
   "metadata": {},
   "source": [
    "### Frage 6. Was ist der Zweck der Verwendung der Kreuzvalidierung (cross-validation) bei Klassifizierungsproblemen?\n",
    "Antwort:\n",
    "\n",
    "Cross-Validation is splitting the datasets in k peaces and performs k trainings on them. \n",
    "\n",
    "It is mainly been used in case of limited data to enable multiple train/test runs on the model, by splitting the data in multiple train and test sets and run the training multiple times on them. This enables more training of the model as it would be the case without cross-validation. The avarage of the validation error is an estimate of the models performance."
   ]
  },
  {
   "cell_type": "markdown",
   "metadata": {},
   "source": [
    "#### Bonus Punkte. Was ist der Zweck einer nested (verschachtelten) Kreuzvalidierung?\n",
    "Antwort:\n",
    "\n",
    "Using a nested cross-validation during a grid search dataset is to test the training phases.\n",
    "It has an inner and outer loop where the inner loop is to tune the hyper parameter, while the outer loop is to estimate the model error by avaraging the errors."
   ]
  },
  {
   "cell_type": "markdown",
   "metadata": {},
   "source": [
    "### Frage 7. Was ist der Unterschied zwischen Parametern und Hyperparametern? Definieren Sie Parameter und einige der Hyperparameter von 2 Machine Learning (ML)-Modellen  (Sie können Ihre eigenen Modelle oder z.B. k-NN, Lineare Regression, auswählen). Wenn ein Modell keine Parameter oder Hyperparameter hat, bitte schreiben Sie: keine.\n",
    "Antwort:\n",
    "\n",
    "# Parameter of models\n",
    "* parameter of models are trained automatically from data by the used framework  \n",
    "* needed by the model to make predictions\n",
    "* are not defined by the developer/data scientist\n",
    "* depending on the model architecture the number of parameters are varying. In an NeuronalNetwork the connections from one perceptron to another having at least weights and the perceptron itselb has a bias. These are parameters learned during the training of the model.\n",
    "* a linear regression is been using linear functions e.g. y = ax + b where a and b are the parameters\n",
    "\n",
    "# Hyperparameter\n",
    "* are parameter which have influence to the underlying algorithm used to calculate the __parameter__ during training\n",
    "* are set by the developer/data scientist \n",
    "* are not updated during the training\n",
    "* are tuned by the developer/data scientist for a given problem\n",
    "in an scikit-learn k-NN model hyper parameters are e.g.\n",
    "* the number of neighbors to be used to identify a data point belongs to \n",
    "* the algorithm used to compute the nearest neighbor\n",
    "* ... up to the number of parallel jobs to run when using a parallel backend\n"
   ]
  },
  {
   "cell_type": "markdown",
   "metadata": {},
   "source": [
    "### Frage 8. Was ist die Hauptannahme in Naive Bayes Classifier? Geben Sie ein Anwendungsbeispiel an, in dem diese Annahme möglicherweise gültig ist, und ein Anwendungsbeispiel, in dem diese Annahme möglicherweise nicht gültig ist. Begruenden Sie Ihre Antworten.\n",
    "Antwort:\n",
    "\n",
    "The main assumptions are that all features are independent from each other and all have the same importance.\n",
    "As example a mail classification problem should be given which tries to predict if an email is spam or not.\n",
    "Every word of the email is been used as feature. \n",
    "\n",
    "Since the main assumptions are defining that features are indepentently from each other and have the same importance, this would mean, that the combinations of words forming a sentence is do not have an influence to the classifier, but this does not reflect the reality and thats why such classifier will not be able to perform as good as a human who considers the meaning of sentences instead of only words.\n"
   ]
  },
  {
   "cell_type": "markdown",
   "metadata": {},
   "source": [
    "# Bonus-Frage\n",
    "Diese Fragen fügen zusätzliche Punkte hinzu."
   ]
  },
  {
   "cell_type": "markdown",
   "metadata": {},
   "source": [
    "### Bonus Frage. Wir möchten ein Modell erstellen, das die medizinischen Informationen einer Person (Alter, Gewicht, Geschlecht, Blutwerte usw.) als Input nimmt und uns die Wahrscheinlichkeit vorhersagt, dass diese Person an Lungenkrebs sterben könnte. Ist dies ein Regressionsproblem oder ein Klassifizierungsproblem oder könnte es möglicherweise beides sein? Erklären Sie Ihre Argumentation. \n",
    "Antwort:\n",
    "\n",
    "It is an classification problem because the result is a binary probability to die on lung cancer.\n",
    "It would be a regression problem if the model should predict the age when a person is going to die.\n",
    "\n",
    "Some might think having seen here both problems (regression and classification). Basically all binary problems could be seen like this since the predicted probability could be seen as regression output. A threshold is been used to classify the predicted probability. \n",
    "\n",
    "Such a threshold could be manually choosen on any regression result to create a classification result.\n"
   ]
  }
 ],
 "metadata": {
  "kernelspec": {
   "display_name": "Python 3",
   "language": "python",
   "name": "python3"
  },
  "language_info": {
   "codemirror_mode": {
    "name": "ipython",
    "version": 3
   },
   "file_extension": ".py",
   "mimetype": "text/x-python",
   "name": "python",
   "nbconvert_exporter": "python",
   "pygments_lexer": "ipython3",
   "version": "3.6.9"
  },
  "varInspector": {
   "cols": {
    "lenName": 16,
    "lenType": 16,
    "lenVar": 40
   },
   "kernels_config": {
    "python": {
     "delete_cmd_postfix": "",
     "delete_cmd_prefix": "del ",
     "library": "var_list.py",
     "varRefreshCmd": "print(var_dic_list())"
    },
    "r": {
     "delete_cmd_postfix": ") ",
     "delete_cmd_prefix": "rm(",
     "library": "var_list.r",
     "varRefreshCmd": "cat(var_dic_list()) "
    }
   },
   "types_to_exclude": [
    "module",
    "function",
    "builtin_function_or_method",
    "instance",
    "_Feature"
   ],
   "window_display": false
  }
 },
 "nbformat": 4,
 "nbformat_minor": 2
}
