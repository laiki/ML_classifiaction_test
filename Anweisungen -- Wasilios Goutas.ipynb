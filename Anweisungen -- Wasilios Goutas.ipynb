{
 "cells": [
  {
   "cell_type": "markdown",
   "metadata": {},
   "source": [
    "# Anweisungen \n",
    "\n",
    "Das Abschlussprojekt besteht aus 2 Aufgaben: Aufgabe 1 and Aufgabe 2. Aufgabe 1 erfasst die Theorie und betraegt insgesamt 30 Punkte. Aufgabe 2 erfasst die Praxis und betraegt insgesamt 70 Punkte. \n",
    "\n",
    "Aufgabe 1 besteht aus 8 Fragen, die direkt unter den Fragen in dem Jupyter Notebook Aufgabe 1 beantwortet werden muessen. Es gibt 2 Bonus-Fragen in Aufgabe 1, die 8 Punkte betragen koennen. \n",
    "\n",
    "Aufgabe 2 besteht aus 6 Tilen, die direkt unter den Beschreibungen in dem Jupyter Notebook Aufgabe 2 beantwortet und bearbeitet werden muessen. Es gibt 3 Bonus-Fragen in Aufgabe 2, die insgesamt 30 Punkte betragen koennen. \n",
    "\n",
    "----------------------------------------\n",
    "\n",
    "### Alle Aufgaben und Fragen muessen in den vorgesehenen Plaetzen in den Jupyter Notebooks beantwortet und gearbeitet werden. \n",
    "\n",
    "Sie werden zuzweit in die durch einen Zufallsgenerator zugeordnetem Teams arbeiten. Die Teilnehmer die alleine arbeiten moechten, haben mir schon benachrichtigt. \n",
    "\n",
    "### Sie duerfen: \n",
    "\n",
    "- In ihren jeweiligen Teams mit einander diskutieren, beraten und Screens teilen. Jedoch, jeder Teilnemer/jede Teilnehmerin schreibt eigenen Code und Antworten auf die Fragen und reicht eigenes Projekt ein. \n",
    "\n",
    "- Code aus vorherigen Aufgaben und von mir bzw. anderen Teilnehmern mitgeilten Jupyter-Notebooks benutzen. \n",
    "\n",
    "- Code und Hinweise aus Internet suchen und benutzen. \n",
    "\n",
    "- Auf English oder Deutsch schreiben. \n",
    "\n",
    "\n",
    "### Sie duerfen nicht:\n",
    "\n",
    "- Ihre Teams wechseln. \n",
    "- Andere Teilnehmer/Innen aus anderen Teams um Hilfe bitten.\n",
    "\n",
    "Ich bitte darum, Ihren Code und die Daten nach dem Kurs nicht mit den kuenftigen Studenten/innen von Alfatraining zu teilen. \n",
    "\n",
    "Am 23.06. haben wir mit allen Teilnehmern/innen festgestellt, dass die neotigen Bibliotheken und Software Werkzeuge bei allen Teilnehmern/innen funtionieren. \n",
    "\n",
    "-------------------------------------\n",
    "\n",
    "## Der Abgabetermin ist 25.06.2020 um 17:00 Uhr. "
   ]
  },
  {
   "cell_type": "markdown",
   "metadata": {},
   "source": [
    "#### Bitte geben Sie die mit Ihnen Namen versehenen Anweisungen sowie Aufgabe 1 und 2 Jupyter-Notebooks ab. \n",
    "\n",
    "## Ich (Wasilios Goutas) habe diese Anweisungen gelesen und verstanden.\n",
    "\n"
   ]
  }
 ],
 "metadata": {
  "kernelspec": {
   "display_name": "Python 3",
   "language": "python",
   "name": "python3"
  },
  "language_info": {
   "codemirror_mode": {
    "name": "ipython",
    "version": 3
   },
   "file_extension": ".py",
   "mimetype": "text/x-python",
   "name": "python",
   "nbconvert_exporter": "python",
   "pygments_lexer": "ipython3",
   "version": "3.6.9"
  },
  "varInspector": {
   "cols": {
    "lenName": 16,
    "lenType": 16,
    "lenVar": 40
   },
   "kernels_config": {
    "python": {
     "delete_cmd_postfix": "",
     "delete_cmd_prefix": "del ",
     "library": "var_list.py",
     "varRefreshCmd": "print(var_dic_list())"
    },
    "r": {
     "delete_cmd_postfix": ") ",
     "delete_cmd_prefix": "rm(",
     "library": "var_list.r",
     "varRefreshCmd": "cat(var_dic_list()) "
    }
   },
   "types_to_exclude": [
    "module",
    "function",
    "builtin_function_or_method",
    "instance",
    "_Feature"
   ],
   "window_display": false
  }
 },
 "nbformat": 4,
 "nbformat_minor": 2
}
